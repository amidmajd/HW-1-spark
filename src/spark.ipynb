{
  "nbformat": 4,
  "nbformat_minor": 0,
  "metadata": {
    "colab": {
      "name": "spark.ipynb",
      "provenance": [],
      "collapsed_sections": []
    },
    "kernelspec": {
      "name": "python3",
      "display_name": "Python 3"
    },
    "language_info": {
      "name": "python"
    }
  },
  "cells": [
    {
      "cell_type": "code",
      "execution_count": 1,
      "metadata": {
        "colab": {
          "base_uri": "https://localhost:8080/"
        },
        "id": "jjrybfYkaq_L",
        "outputId": "3e621173-03d9-4122-eafd-35075425aa46"
      },
      "outputs": [
        {
          "output_type": "stream",
          "name": "stdout",
          "text": [
            "Collecting pyspark\n",
            "  Downloading pyspark-3.2.1.tar.gz (281.4 MB)\n",
            "\u001b[K     |████████████████████████████████| 281.4 MB 35 kB/s \n",
            "\u001b[?25hCollecting py4j==0.10.9.3\n",
            "  Downloading py4j-0.10.9.3-py2.py3-none-any.whl (198 kB)\n",
            "\u001b[K     |████████████████████████████████| 198 kB 52.4 MB/s \n",
            "\u001b[?25hBuilding wheels for collected packages: pyspark\n",
            "  Building wheel for pyspark (setup.py) ... \u001b[?25l\u001b[?25hdone\n",
            "  Created wheel for pyspark: filename=pyspark-3.2.1-py2.py3-none-any.whl size=281853642 sha256=e46aa6519604105ff4739f0b7cee523988f86b8cc656d9f8778cee308305e8d3\n",
            "  Stored in directory: /root/.cache/pip/wheels/9f/f5/07/7cd8017084dce4e93e84e92efd1e1d5334db05f2e83bcef74f\n",
            "Successfully built pyspark\n",
            "Installing collected packages: py4j, pyspark\n",
            "Successfully installed py4j-0.10.9.3 pyspark-3.2.1\n"
          ]
        }
      ],
      "source": [
        "!pip install pyspark  # Requirements\n",
        "from pyspark import SparkContext, SparkConf"
      ]
    },
    {
      "cell_type": "code",
      "source": [
        "conf = SparkConf().setAppName(\"homework\").set('spark.ui.port', '4050')\n",
        "spark = SparkContext(conf=conf)"
      ],
      "metadata": {
        "id": "ioRy9GYObXTQ"
      },
      "execution_count": 2,
      "outputs": []
    },
    {
      "cell_type": "code",
      "source": [
        "rdd = spark.textFile(\"/content/data.csv\")\n",
        "len(rdd.collect())"
      ],
      "metadata": {
        "colab": {
          "base_uri": "https://localhost:8080/"
        },
        "id": "CzsRFF55blIx",
        "outputId": "b723d659-934a-4402-98ea-8a2a96c47420"
      },
      "execution_count": 3,
      "outputs": [
        {
          "output_type": "execute_result",
          "data": {
            "text/plain": [
              "50"
            ]
          },
          "metadata": {},
          "execution_count": 3
        }
      ]
    },
    {
      "cell_type": "code",
      "source": [
        "rdd.filter(lambda item: item == 'Princeton University').collect()"
      ],
      "metadata": {
        "colab": {
          "base_uri": "https://localhost:8080/"
        },
        "id": "CcxIcH5lfLiZ",
        "outputId": "12726f9e-70fb-436c-b8b2-ddeaae7cd17c"
      },
      "execution_count": 4,
      "outputs": [
        {
          "output_type": "execute_result",
          "data": {
            "text/plain": [
              "['Princeton University']"
            ]
          },
          "metadata": {},
          "execution_count": 4
        }
      ]
    },
    {
      "cell_type": "code",
      "source": [
        "rdd.map(lambda item: item.upper()).collect()"
      ],
      "metadata": {
        "colab": {
          "base_uri": "https://localhost:8080/"
        },
        "id": "dXcH-JeOpzTp",
        "outputId": "c08138c7-e25b-461c-9053-66924245131f"
      },
      "execution_count": 5,
      "outputs": [
        {
          "output_type": "execute_result",
          "data": {
            "text/plain": [
              "['MASSACHUSETTS INSTITUTE OF TECHNOLOGY',\n",
              " 'UNIVERSITY OF OXFORD',\n",
              " 'UNIVERSITY OF CAMBRIDGE',\n",
              " 'STANFORD UNIVERSITY',\n",
              " 'HARVARD UNIVERSITY',\n",
              " 'CALIFORNIA INSTITUTE OF TECHNOLOGY',\n",
              " 'IMPERIAL COLLEGE LONDON',\n",
              " 'SWISS FEDERAL INSTITUTE OF TECHNOLOGY IN ZURICH',\n",
              " 'UNIVERSITY COLLEGE LONDON',\n",
              " 'UNIVERSITY OF CHICAGO',\n",
              " 'NATIONAL UNIVERSITY OF SINGAPORE',\n",
              " 'NANYANG TECHNOLOGICAL UNIVERSITY',\n",
              " 'UNIVERSITY OF PENNSYLVANIA',\n",
              " 'SWISS FEDERAL INSTITUTE OF TECHNOLOGY IN LAUSANNE',\n",
              " 'YALE UNIVERSITY',\n",
              " 'UNIVERSITY OF EDINBURGH',\n",
              " 'TSINGHUA UNIVERSITY',\n",
              " 'PEKING UNIVERSITY',\n",
              " 'COLUMBIA UNIVERSITY',\n",
              " 'PRINCETON UNIVERSITY',\n",
              " 'CORNELL UNIVERSITY',\n",
              " 'UNIVERSITY OF HONG KONG',\n",
              " 'UNIVERSITY OF TOKYO',\n",
              " 'UNIVERSITY OF MICHIGAN',\n",
              " 'JOHNS HOPKINS UNIVERSITY',\n",
              " 'UNIVERSITY OF TORONTO',\n",
              " 'MCGILL UNIVERSITY',\n",
              " 'AUSTRALIAN NATIONAL UNIVERSITY',\n",
              " 'UNIVERSITY OF MANCHESTER',\n",
              " 'NORTHWESTERN UNIVERSITY',\n",
              " 'FUDAN UNIVERSITY',\n",
              " 'UNIVERSITY OF CALIFORNIA, BERKELEY',\n",
              " 'KYOTO UNIVERSITY',\n",
              " 'HONG KONG UNIVERSITY OF SCIENCE AND TECHNOLOGY',\n",
              " \"KING'S COLLEGE LONDON\",\n",
              " 'SEOUL NATIONAL UNIVERSITY',\n",
              " 'UNIVERSITY OF MELBOURNE',\n",
              " 'UNIVERSITY OF SYDNEY',\n",
              " 'CHINESE UNIVERSITY OF HONG KONG',\n",
              " 'UNIVERSITY OF CALIFORNIA, LOS ANGELES',\n",
              " 'KAIST',\n",
              " 'NEW YORK UNIVERSITY',\n",
              " 'UNIVERSITY OF NEW SOUTH WALES',\n",
              " 'PARIS SCIENCES ET LETTRES UNIVERSITY',\n",
              " 'ZHEJIANG UNIVERSITY',\n",
              " 'UNIVERSITY OF BRITISH COLUMBIA',\n",
              " 'UNIVERSITY OF QUEENSLAND',\n",
              " 'UNIVERSITY OF CALIFORNIA, SAN DIEGO',\n",
              " 'POLYTECHNIC INSTITUTE OF PARIS',\n",
              " 'LONDON SCHOOL OF ECONOMICS']"
            ]
          },
          "metadata": {},
          "execution_count": 5
        }
      ]
    },
    {
      "cell_type": "code",
      "source": [
        "rdd.groupBy(lambda item: item[0]).map(lambda item: (item[0], list(item[1]))).collect()"
      ],
      "metadata": {
        "colab": {
          "base_uri": "https://localhost:8080/"
        },
        "id": "p6miiOjoqBWi",
        "outputId": "edc6cab1-1923-48a7-b66f-1ca6715218cc"
      },
      "execution_count": 6,
      "outputs": [
        {
          "output_type": "execute_result",
          "data": {
            "text/plain": [
              "[('S',\n",
              "  ['Stanford University',\n",
              "   'Swiss Federal Institute of Technology in Zurich',\n",
              "   'Swiss Federal Institute of Technology in Lausanne',\n",
              "   'Seoul National University']),\n",
              " ('C',\n",
              "  ['California Institute of Technology',\n",
              "   'Columbia University',\n",
              "   'Cornell University',\n",
              "   'Chinese University of Hong Kong']),\n",
              " ('N',\n",
              "  ['National University of Singapore',\n",
              "   'Nanyang Technological University',\n",
              "   'Northwestern University',\n",
              "   'New York University']),\n",
              " ('J', ['Johns Hopkins University']),\n",
              " ('K', ['Kyoto University', \"King's College London\", 'KAIST']),\n",
              " ('L', ['London School of Economics']),\n",
              " ('M', ['Massachusetts Institute of Technology', 'McGill University']),\n",
              " ('U',\n",
              "  ['University of Oxford',\n",
              "   'University of Cambridge',\n",
              "   'University College London',\n",
              "   'University of Chicago',\n",
              "   'University of Pennsylvania',\n",
              "   'University of Edinburgh',\n",
              "   'University of Hong Kong',\n",
              "   'University of Tokyo',\n",
              "   'University of Michigan',\n",
              "   'University of Toronto',\n",
              "   'University of Manchester',\n",
              "   'University of California, Berkeley',\n",
              "   'University of Melbourne',\n",
              "   'University of Sydney',\n",
              "   'University of California, Los Angeles',\n",
              "   'University of New South Wales',\n",
              "   'University of British Columbia',\n",
              "   'University of Queensland',\n",
              "   'University of California, San Diego']),\n",
              " ('H',\n",
              "  ['Harvard University', 'Hong Kong University of Science and Technology']),\n",
              " ('I', ['Imperial College London']),\n",
              " ('Y', ['Yale University']),\n",
              " ('T', ['Tsinghua University']),\n",
              " ('P',\n",
              "  ['Peking University',\n",
              "   'Princeton University',\n",
              "   'Paris Sciences et Lettres University',\n",
              "   'Polytechnic Institute of Paris']),\n",
              " ('A', ['Australian National University']),\n",
              " ('F', ['Fudan University']),\n",
              " ('Z', ['Zhejiang University'])]"
            ]
          },
          "metadata": {},
          "execution_count": 6
        }
      ]
    },
    {
      "cell_type": "code",
      "source": [
        "text_file = open(\"/content/text.txt\", 'r')\n",
        "text_tokenized = []\n",
        "\n",
        "for line in text_file:\n",
        "  for word in line.split():\n",
        "    token = word.replace('.', '').strip().lower()\n",
        "    if token:\n",
        "      text_tokenized.append(token)\n",
        "      \n",
        "text_rdd = spark.parallelize(text_tokenized)"
      ],
      "metadata": {
        "id": "wEHrFuRKtErq"
      },
      "execution_count": 7,
      "outputs": []
    },
    {
      "cell_type": "code",
      "source": [
        "text_rdd.map(lambda item: (item, 1)).reduceByKey(lambda count1, count2: count1 + count2).collect()"
      ],
      "metadata": {
        "colab": {
          "base_uri": "https://localhost:8080/"
        },
        "id": "BPHoe9N_z9Sj",
        "outputId": "f79564cc-7161-4cfd-bfd6-7a5615b70f9e"
      },
      "execution_count": 8,
      "outputs": [
        {
          "output_type": "execute_result",
          "data": {
            "text/plain": [
              "[('an', 4),\n",
              " ('of', 3),\n",
              " ('needed', 1),\n",
              " ('tell', 1),\n",
              " ('use', 1),\n",
              " ('paid', 1),\n",
              " ('law', 2),\n",
              " ('ever', 1),\n",
              " ('yet', 1),\n",
              " ('new', 2),\n",
              " ('style', 1),\n",
              " ('allow', 1),\n",
              " ('he', 2),\n",
              " ('there', 3),\n",
              " ('stand', 1),\n",
              " ('tears', 1),\n",
              " ('ten', 2),\n",
              " ('widen', 1),\n",
              " ('procuring', 1),\n",
              " ('continued', 1),\n",
              " ('pursuit', 1),\n",
              " ('brother', 1),\n",
              " ('are', 3),\n",
              " ('fifteen', 1),\n",
              " ('distant', 1),\n",
              " ('equal', 1),\n",
              " ('quiet', 1),\n",
              " ('visit', 1),\n",
              " ('appear', 1),\n",
              " ('as', 2),\n",
              " ('no', 3),\n",
              " ('praise', 1),\n",
              " ('in', 4),\n",
              " ('is', 1),\n",
              " ('amiable', 1),\n",
              " ('farther', 1),\n",
              " ('middletons', 1),\n",
              " ('boy', 1),\n",
              " ('moonlight', 1),\n",
              " ('interested', 1),\n",
              " ('difficulty', 1),\n",
              " ('assistance', 1),\n",
              " ('unaffected', 1),\n",
              " ('at', 2),\n",
              " ('ye', 1),\n",
              " ('compliment', 1),\n",
              " ('alteration', 1),\n",
              " ('arise', 1),\n",
              " ('parlors', 1),\n",
              " ('waiting', 1),\n",
              " ('against', 1),\n",
              " ('warrant', 1),\n",
              " ('settled', 1),\n",
              " ('was', 1),\n",
              " ('luckily', 1),\n",
              " ('opinion', 1),\n",
              " ('enable', 1),\n",
              " ('seeing', 1),\n",
              " ('remainder', 1),\n",
              " ('but', 2),\n",
              " ('sincerity', 1),\n",
              " ('length', 1),\n",
              " ('attachment', 1),\n",
              " ('appearance', 1),\n",
              " ('excellence', 1),\n",
              " ('way', 1),\n",
              " ('lived', 1),\n",
              " ('whose', 1),\n",
              " ('leave', 1),\n",
              " ('advice', 1),\n",
              " ('me', 2),\n",
              " ('cousin', 1),\n",
              " ('spring', 1),\n",
              " ('meant', 1),\n",
              " ('to', 4),\n",
              " ('learn', 1),\n",
              " ('vexed', 1),\n",
              " ('if', 2),\n",
              " ('tiled', 2),\n",
              " ('man', 1),\n",
              " ('joy', 2),\n",
              " ('terms', 1),\n",
              " ('any', 1),\n",
              " ('suspicion', 1),\n",
              " ('its', 1),\n",
              " ('had', 3),\n",
              " ('has', 2),\n",
              " ('early', 1),\n",
              " ('add', 1),\n",
              " ('china', 1),\n",
              " ('manner', 1),\n",
              " ('limits', 1),\n",
              " ('either', 1),\n",
              " ('written', 1),\n",
              " ('on', 2),\n",
              " ('charmed', 1),\n",
              " ('justice', 1),\n",
              " ('besides', 2),\n",
              " ('insensible', 1),\n",
              " ('unsatiable', 1),\n",
              " ('for', 2),\n",
              " ('apartments', 1),\n",
              " ('delightful', 1),\n",
              " ('unreserved', 1),\n",
              " ('difficult', 1),\n",
              " ('engrossed', 2),\n",
              " ('it', 3),\n",
              " ('sportsmen', 1),\n",
              " ('all', 1),\n",
              " ('devonshire', 1),\n",
              " ('gay', 2),\n",
              " ('place', 1),\n",
              " ('voice', 1),\n",
              " ('along', 1),\n",
              " ('so', 2),\n",
              " ('wishing', 1),\n",
              " ('calling', 1),\n",
              " ('express', 1),\n",
              " ('present', 1),\n",
              " ('visitor', 1),\n",
              " ('piqued', 1),\n",
              " ('favour', 1),\n",
              " ('stairs', 1),\n",
              " ('exeter', 1),\n",
              " ('met', 1),\n",
              " ('improving', 1),\n",
              " ('age', 1),\n",
              " ('better', 1),\n",
              " ('denied', 1),\n",
              " ('abroad', 1),\n",
              " ('astonished', 1),\n",
              " ('imprudence', 1),\n",
              " ('collecting', 1),\n",
              " ('blind', 1),\n",
              " ('the', 1),\n",
              " ('fully', 1),\n",
              " ('she', 1),\n",
              " ('merit', 1),\n",
              " ('enjoy', 1),\n",
              " ('forth', 1)]"
            ]
          },
          "metadata": {},
          "execution_count": 8
        }
      ]
    },
    {
      "cell_type": "code",
      "source": [
        "!wget -qnc https://bin.equinox.io/c/4VmDzA7iaHb/ngrok-stable-linux-amd64.zip\n",
        "!unzip -n -q ngrok-stable-linux-amd64.zip\n",
        "!./ngrok authtoken 25hdZ065Vc4gRzz0PrT0hbdmJlL_7ie6Gaf3DnXNsonr42Wyi\n",
        "get_ipython().system_raw('./ngrok http 4050 &')\n",
        "!curl -s http://localhost:4040/api/tunnels | grep -Po 'public_url\":\"(?=https)\\K[^\"]*'"
      ],
      "metadata": {
        "id": "CgOrODg_P0IL",
        "outputId": "84294f98-b8a1-41c9-969c-a96bb436837c",
        "colab": {
          "base_uri": "https://localhost:8080/"
        }
      },
      "execution_count": 10,
      "outputs": [
        {
          "output_type": "stream",
          "name": "stdout",
          "text": [
            "Authtoken saved to configuration file: /root/.ngrok2/ngrok.yml\n",
            "https://b6ed-35-229-86-112.ngrok.io\n"
          ]
        }
      ]
    }
  ]
}